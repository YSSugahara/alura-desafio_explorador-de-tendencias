{
  "nbformat": 4,
  "nbformat_minor": 0,
  "metadata": {
    "colab": {
      "provenance": [],
      "authorship_tag": "ABX9TyPVUjZytIdckUC4mPx5k7zM",
      "include_colab_link": true
    },
    "kernelspec": {
      "name": "python3",
      "display_name": "Python 3"
    },
    "language_info": {
      "name": "python"
    }
  },
  "cells": [
    {
      "cell_type": "markdown",
      "metadata": {
        "id": "view-in-github",
        "colab_type": "text"
      },
      "source": [
        "<a href=\"https://colab.research.google.com/github/YSSugahara/alura-desafio_tendencias-de-busca/blob/main/2405_desafio_alura_v0_1.ipynb\" target=\"_parent\"><img src=\"https://colab.research.google.com/assets/colab-badge.svg\" alt=\"Open In Colab\"/></a>"
      ]
    },
    {
      "cell_type": "code",
      "execution_count": 45,
      "metadata": {
        "id": "TCF9q0SzC1qm"
      },
      "outputs": [],
      "source": [
        "# Imersão IA 2ª edição\n",
        "# DESAFIO ALURA\n",
        "# Nome: Yuji Samuel Sugahara"
      ]
    },
    {
      "cell_type": "code",
      "source": [
        "# Instalacao do pacote do Google Generative Ai\n",
        "!pip install -q -U google-generativeai"
      ],
      "metadata": {
        "id": "3fajxbYmC7oh"
      },
      "execution_count": 39,
      "outputs": []
    },
    {
      "cell_type": "code",
      "source": [
        "# Importacao\n",
        "import google.generativeai as genai\n",
        "from google.colab import userdata\n",
        "\n",
        "# Forma de subir a API key de forma secreta\n",
        "API_KEY = userdata.get(\"SECRET_KEY\")\n",
        "\n",
        "# Setup do Gemini\n",
        "GOOGLE_API_KEY = API_KEY\n",
        "genai.configure(api_key=GOOGLE_API_KEY)"
      ],
      "metadata": {
        "id": "xWcb7vRgC_Wd"
      },
      "execution_count": 40,
      "outputs": []
    },
    {
      "cell_type": "code",
      "source": [
        "# Setup da IA\n",
        "generation_config = {\n",
        "    \"candidate_count\": 1,\n",
        "    \"temperature\": 1,\n",
        "    # \"top_p\" entre 0 e 1\n",
        "    # \"top_k\" entre 0 e 1\n",
        "}"
      ],
      "metadata": {
        "id": "1KnzkCSiDAmr"
      },
      "execution_count": 72,
      "outputs": []
    },
    {
      "cell_type": "code",
      "source": [
        "# Setup de segurança da IA\n",
        "# BLOCK NONE = BLOCK_NONE (Sempre mostrar, independentemente da probabilidade de conteudo nao seguro)\n",
        "# BLOCK FEW = BLOCK_ONLY_HIGH (Bloquear quando houver alta probabilidade de conteudo nao seguro)\n",
        "# BLOCK SOME (defaut) = BLOCK_ONLY_HIGH (Bloquear quando houver probabilidade media ou alta de conteudo nao seguro)\n",
        "# BLOCK MOST = BLOCK_LOW_AND_ABOVE (Bloquear quando a probabilidade de conteudo não seguro eh baixa, media ou alta)\n",
        "safety_settings = {\n",
        "    \"HARASSMENT\": \"BLOCK_MEDIUM_AND_ABOVE\",\n",
        "    \"HATE\": \"BLOCK_MEDIUM_AND_ABOVE\",\n",
        "    \"SEXUAL\": \"BLOCK_MEDIUM_AND_ABOVE\",\n",
        "    \"DANGEROUS\": \"BLOCK_MEDIUM_AND_ABOVE\",\n",
        "}"
      ],
      "metadata": {
        "id": "OJ_pBtOJDBfa"
      },
      "execution_count": 42,
      "outputs": []
    },
    {
      "cell_type": "code",
      "source": [
        "# Inicializando o modelo\n",
        "model = genai.GenerativeModel(\"gemini-1.0-pro\",\n",
        "                              safety_settings = safety_settings,\n",
        "                              generation_config = generation_config)"
      ],
      "metadata": {
        "id": "Ic_P5PzFDCWf"
      },
      "execution_count": 43,
      "outputs": []
    },
    {
      "cell_type": "code",
      "source": [
        "# Inicializando o chat\n",
        "chat = model.start_chat(history=[])\n",
        "chat.history\n",
        "\n",
        "# Condicao de parada\n",
        "print(\"Digite 'stop' para terminar a busca.\")\n",
        "\n",
        "# Solicitando tema a ser pesquisado\n",
        "prompt = input('Digite um tema que você está buscando entender mais sobre a tendência: ')\n",
        "\n",
        "# Estipulando criterios de parada\n",
        "while prompt != \"stop\":\n",
        "  #chat.send_message(\"Verifique a ortografia de \" + prompt) # Verifica se a palavra nao foi digitada errada\n",
        "  chat.send_message(\"Faça uma busca na internet sobre \" + prompt)\n",
        "  chat.send_message(\"Entenda qual a tendência de busca na internet por este termo\") # Faz a busca das informacoes referentes ao tema e traz um veredito sobre a tendencia de busca\n",
        "\n",
        "  # Estruturando template de resposta\n",
        "  tendencia = chat.send_message(\"Qual a tendência de busca por esse termo? Responda apenas com: Muito alta, alta, média, baixa ou muito baixa\")\n",
        "  print('\\n Tendência: ', tendencia.text) # Imprimindo resposta\n",
        "  motivos = chat.send_message(\"Descreva 3 possíveis motivos pelos quais a tendência de busca deste termo\")\n",
        "  print('\\n', motivos.text) # Imprimindo resposta\n",
        "  lista = chat.send_message(\"Sugira uma lista de 5 outros termos, que tenham significados próximos\")\n",
        "  print('\\n', lista.text, '\\n\\n') # Imprimindo resposta\n",
        "\n",
        "  # Solicitando um novo tema a ser pesquisado\n",
        "  prompt = input('Digite um tema que você está buscando entender mais sobre a tendência: ')\n",
        "\n",
        "# Resumindo pesquisa\n",
        "tabela = chat.send_message(\"Gere uma tabela com as seguintes colunas: Termo e tendência\")\n",
        "print('\\n', tabela.text, '\\n\\n') # Imprimindo resposta"
      ],
      "metadata": {
        "id": "8q5LiPVkf5KQ",
        "colab": {
          "base_uri": "https://localhost:8080/",
          "height": 1000
        },
        "outputId": "2966e569-07b6-4d6d-d8c9-352e633201be"
      },
      "execution_count": 79,
      "outputs": [
        {
          "output_type": "stream",
          "name": "stdout",
          "text": [
            "Digite 'stop' para terminar a busca.\n",
            "Digite um tema que você está buscando entender mais sobre a tendência: Alura\n",
            "\n",
            " Tendência:  **Alta**\n",
            "\n",
            " **3 Possíveis Motivos para a Alta Tendência de Busca por \"Alura\":**\n",
            "\n",
            "1. **Crescente demanda por habilidades tecnológicas:** A transformação digital está impulsionando a demanda por profissionais qualificados em áreas como desenvolvimento de software, ciência de dados e inteligência artificial. A Alura oferece uma ampla gama de cursos nessas áreas, atendendo a essa demanda crescente.\n",
            "\n",
            "2. **Popularidade do aprendizado online:** A educação online oferece conveniência, flexibilidade e acesso a uma ampla gama de cursos. A Alura é uma plataforma de educação online confiável e de alta qualidade, atraindo um grande número de alunos que buscam aprimorar suas habilidades ou iniciar novas carreiras.\n",
            "\n",
            "3. **Marketing e parcerias:** A Alura tem investido em marketing e parcerias com empresas e instituições de ensino para aumentar sua visibilidade. Isso tem contribuído para o aumento do reconhecimento da marca e do volume de buscas por \"Alura\".\n",
            "\n",
            " **5 Termos com Significados Próximos a \"Alura\":**\n",
            "\n",
            "1. **Udemy**\n",
            "2. **Coursera**\n",
            "3. **edX**\n",
            "4. **Pluralsight**\n",
            "5. **Skillshare**\n",
            "\n",
            "Esses termos se referem a plataformas de educação online que oferecem uma ampla gama de cursos em tecnologia, negócios e outras áreas. Eles são semelhantes à Alura em termos de conteúdo, formato e público-alvo. \n",
            "\n",
            "\n",
            "Digite um tema que você está buscando entender mais sobre a tendência: FIAP\n",
            "\n",
            " Tendência:  **Alta**\n",
            "\n",
            " **3 Possíveis Motivos para a Alta Tendência de Busca por \"FIAP\":**\n",
            "\n",
            "1. **Reputação de excelência:** A FIAP é reconhecida como uma instituição de ensino superior de qualidade, especialmente nas áreas de tecnologia e negócios. Isso atrai candidatos qualificados e impulsiona as buscas por informações sobre a instituição.\n",
            "\n",
            "2. **Programas inovadores:** A FIAP oferece programas de graduação e pós-graduação inovadores que atendem às demandas do mercado de trabalho. Esses programas exclusivos geram interesse e levam a um maior volume de buscas.\n",
            "\n",
            "3. **Marketing e parcerias:** A FIAP investe em marketing online e offline e mantém parcerias com diversas empresas e instituições de ensino. Essas estratégias aumentam a visibilidade da FIAP e contribuem para a alta tendência de busca por seu nome.\n",
            "\n",
            " **5 Termos com Significados Próximos a \"FIAP\":**\n",
            "\n",
            "1. **Universidade de São Paulo (USP)**\n",
            "2. **Universidade Estadual de Campinas (UNICAMP)**\n",
            "3. **Instituto Tecnológico de Aeronáutica (ITA)**\n",
            "4. **Pontifícia Universidade Católica de São Paulo (PUC-SP)**\n",
            "5. **Escola Politécnica da Universidade de São Paulo (POLI-USP)**\n",
            "\n",
            "Esses termos se referem a instituições de ensino superior brasileiras renomadas que oferecem programas de graduação e pós-graduação nas áreas de tecnologia, engenharia e negócios. Elas são semelhantes à FIAP em termos de qualidade acadêmica, reputação e oferta de cursos. \n",
            "\n",
            "\n",
            "Digite um tema que você está buscando entender mais sobre a tendência: Google\n",
            "\n",
            " Tendência:  **Muito alta**\n",
            "\n",
            " **3 Possíveis Motivos para a Tendência de Busca Muito Alta por \"Google\":**\n",
            "\n",
            "1. **Uso generalizado:** O Google é o mecanismo de pesquisa mais usado no mundo, com bilhões de pesquisas realizadas diariamente. Isso leva a um volume extremamente alto de buscas pelo termo \"Google\".\n",
            "2. **Reconhecimento da marca:** O Google é uma marca globalmente reconhecida e sinônimo de pesquisa na internet. Quando as pessoas precisam pesquisar algo online, elas geralmente digitam \"Google\" na barra de pesquisa, mesmo que usem um mecanismo de pesquisa diferente.\n",
            "3. **Diversidade de produtos e serviços:** O Google oferece uma ampla gama de produtos e serviços, incluindo pesquisa, e-mail, mapas, vídeos e armazenamento em nuvem. Essa diversidade aumenta a visibilidade e relevância do Google para os usuários, levando a um maior volume de buscas pelo termo.\n",
            "\n",
            " **5 Termos com Significados Próximos a \"Google\":**\n",
            "\n",
            "1. **Mecanismo de pesquisa**\n",
            "2. **Motor de busca**\n",
            "3. **Pesquisa na web**\n",
            "4. **Buscador**\n",
            "5. **Navegador**\n",
            "\n",
            "Esses termos se referem a ferramentas ou serviços que permitem aos usuários pesquisar e encontrar informações na internet. Eles são semelhantes ao Google em termos de funcionalidade e propósito, embora possam diferir em recursos específicos ou mecanismos subjacentes. \n",
            "\n",
            "\n",
            "Digite um tema que você está buscando entender mais sobre a tendência: stop\n",
            "\n",
            " | **Termo** | **Tendência** |\n",
            "|---|---|\n",
            "| Google | Muito alta |\n",
            "| FIAP | Alta |\n",
            "| Alura | Alta | \n",
            "\n",
            "\n"
          ]
        }
      ]
    }
  ]
}